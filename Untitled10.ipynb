{
 "cells": [
  {
   "cell_type": "code",
   "execution_count": 1,
   "id": "126f6c8d",
   "metadata": {},
   "outputs": [
    {
     "name": "stdout",
     "output_type": "stream",
     "text": [
      "('potato', 'tomatoes', 'spinach', 'garlic', 'pear', 'banana', 'strawberry', 'peach')\n",
      "8\n",
      "('potato', 'tomatoes', 'spinach', 'garlic', 'pear', 'banana', 'strawberry', 'peach', 'needle murshroom', 'yoghourt')\n",
      "needle murshroom yoghourt\n",
      "('pear', 'banana')\n",
      "['tomatoes', 'pear', 'peach']\n",
      "['potato', 'tomatoes', 'spinach', 'garlic']\n",
      "['strawberry', 'peach', 'needle murshroom']\n",
      "('potato', 'Tomatoes', 'spinach', 'garlic', 'avocado', 'banana', 'strawberry', 'peach')\n",
      "8\n",
      "('potato', 'Tomatoes', 'spinach', 'garlic', 'avocado', 'banana', 'strawberry', 'peach', 'needle murshroom', 'yoghourt')\n",
      "needle murshroom yoghourt\n",
      "('avocado', 'banana')\n",
      "['Tomatoes', 'avocado', 'peach']\n",
      "['potato', 'Tomatoes', 'spinach', 'garlic']\n",
      "['strawberry', 'peach', 'needle murshroom']\n",
      "tuple has been deleted\n",
      "False\n",
      "True\n",
      "False\n",
      "True\n"
     ]
    }
   ],
   "source": [
    "vegetables='potato','tomatoes','spinach','garlic'\n",
    "fruits='pear','banana','strawberry','peach'\n",
    "fruit_vegetable=vegetables+fruits\n",
    "print(fruit_vegetable)\n",
    "num=len(fruit_vegetable)\n",
    "print(num)\n",
    "food_tuple=fruit_vegetable+('needle murshroom',\"yoghourt\",)\n",
    "print(food_tuple)\n",
    "(a,b,c,d,e,f,g,h,i,j)=food_tuple\n",
    "print(i,j)\n",
    "food_list=list(food_tuple)\n",
    "i=food_tuple[4:6]\n",
    "print(i)\n",
    "j=food_list[1:8:3]\n",
    "print(j)\n",
    "k=food_list[:4]\n",
    "l=food_list[-4:-1]\n",
    "print(k)\n",
    "print(l)\n",
    "del food_tuple\n",
    "vegetables='potato','Tomatoes','spinach','garlic'\n",
    "fruits='avocado','banana','strawberry','peach'\n",
    "fruit_vegetable=vegetables+fruits\n",
    "print(fruit_vegetable)\n",
    "num=len(fruit_vegetable)\n",
    "print(num)\n",
    "food_tuple=fruit_vegetable+('needle murshroom',\"yoghourt\",)\n",
    "print(food_tuple)\n",
    "(a,b,c,d,e,f,g,h,i,j)=food_tuple\n",
    "print(i,j)\n",
    "food_list=list(food_tuple)\n",
    "i=food_tuple[4:6]\n",
    "print(i)\n",
    "j=food_list[1:8:3]\n",
    "print(j)\n",
    "k=food_list[:4]\n",
    "l=food_list[-4:-1]\n",
    "print(k)\n",
    "print(l)\n",
    "del food_tuple\n",
    "try :\n",
    "    print(food_tuple)\n",
    "except NameError:\n",
    "    print('tuple has been deleted')\n",
    "\n",
    "asian_countries = 'India','China','Singapore','Thailand','Indonesia'\n",
    "m='Finland'in asian_countries\n",
    "n='India'in asian_countries\n",
    "print(m)\n",
    "print(n)\n",
    "\n",
    "asian_countries = 'India','China','Singapore','Thailand','Indonesia'\n",
    "m='Finland'in asian_countries\n",
    "n='India'in asian_countries\n",
    "print(m)\n",
    "print(n)"
   ]
  },
  {
   "cell_type": "code",
   "execution_count": null,
   "id": "ad76ff77",
   "metadata": {},
   "outputs": [],
   "source": []
  }
 ],
 "metadata": {
  "kernelspec": {
   "display_name": "Python 3",
   "language": "python",
   "name": "python3"
  },
  "language_info": {
   "codemirror_mode": {
    "name": "ipython",
    "version": 3
   },
   "file_extension": ".py",
   "mimetype": "text/x-python",
   "name": "python",
   "nbconvert_exporter": "python",
   "pygments_lexer": "ipython3",
   "version": "3.8.8"
  }
 },
 "nbformat": 4,
 "nbformat_minor": 5
}
